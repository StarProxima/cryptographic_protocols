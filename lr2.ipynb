{
 "cells": [
  {
   "cell_type": "markdown",
   "metadata": {},
   "source": [
    "Реализовать класс вычисления целых степеней по заданному модулю(для вычисления положительной степени воспользоваться малой теоремой Ферма и реализованными отдельном методами умножения и сложения по заданному модулю, для вычисления отрицательной степени воспользоваться теоремой Эйлера)."
   ]
  },
  {
   "cell_type": "code",
   "execution_count": 4,
   "metadata": {},
   "outputs": [
    {
     "name": "stdout",
     "output_type": "stream",
     "text": [
      "5\n",
      "7\n"
     ]
    }
   ],
   "source": [
    "def gcd_extended(a, b):\n",
    "    \"\"\"Расширенный алгоритм Евклида.\"\"\"\n",
    "    if a == 0:\n",
    "        return b, 0, 1\n",
    "    else:\n",
    "        gcd, x1, y1 = gcd_extended(b % a, a)\n",
    "        x = y1 - (b // a) * x1\n",
    "        y = x1\n",
    "        return gcd, x, y\n",
    "\n",
    "def euler_phi(m):\n",
    "    \"\"\"Вычисляет значение функции Эйлера.\"\"\"\n",
    "    result = 1\n",
    "    for i in range(2, m):\n",
    "        if gcd_extended(i, m)[0] == 1:\n",
    "            result += 1\n",
    "    return result\n",
    "\n",
    "class ModularExponentiation:\n",
    "    def __init__(self, modulus):\n",
    "        self.modulus = modulus\n",
    "\n",
    "    def add_mod(self, a, b):\n",
    "        \"\"\"Сложение по модулю.\"\"\"\n",
    "        return (a + b) % self.modulus\n",
    "\n",
    "    def mul_mod(self, a, b):\n",
    "        \"\"\"Умножение по модулю.\"\"\"\n",
    "        return (a * b) % self.modulus\n",
    "\n",
    "    def inv_mod(self, a):\n",
    "        \"\"\"Нахождение обратного элемента по модулю.\"\"\"\n",
    "        gcd, x, _ = gcd_extended(a, self.modulus)\n",
    "        if gcd != 1:\n",
    "            raise ValueError(\"Обратный элемент не существует.\")\n",
    "        return x % self.modulus\n",
    "\n",
    "    def pow_mod(self, base, exponent):\n",
    "        \"\"\"Вычисление степени по модулю.\"\"\"\n",
    "        if exponent == 0:\n",
    "            return 1\n",
    "        elif exponent > 0:\n",
    "            # Малая теорема Ферма для положительных степеней\n",
    "            result = 1\n",
    "            for _ in range(exponent):\n",
    "                result = self.mul_mod(result, base)\n",
    "            return result\n",
    "        else:\n",
    "            # Теорема Эйлера для отрицательных степеней\n",
    "            phi = euler_phi(self.modulus)\n",
    "            inv_base = self.inv_mod(base)\n",
    "            positive_exponent = (-exponent) % phi\n",
    "            result = 1\n",
    "            for _ in range(positive_exponent):\n",
    "                result = self.mul_mod(result, inv_base)\n",
    "            return result\n",
    "\n",
    "# Пример использования\n",
    "mod_exp = ModularExponentiation(17)\n",
    "print(mod_exp.pow_mod(3, 5))  # 3^5 mod 17\n",
    "print(mod_exp.pow_mod(3, -5))  # 3^(-5) mod 17, используя обратный элемент и теорему Эйлера"
   ]
  },
  {
   "cell_type": "code",
   "execution_count": 6,
   "metadata": {},
   "outputs": [
    {
     "data": {
      "text/plain": [
       "['Passed', 'Passed', 'Passed', 'Passed', 'Passed', 'Passed']"
      ]
     },
     "execution_count": 6,
     "metadata": {},
     "output_type": "execute_result"
    }
   ],
   "source": [
    "def test_pow_mod():\n",
    "    tests = [\n",
    "        {\"base\": 2, \"exponent\": 0, \"modulus\": 13, \"expected\": 1},\n",
    "        {\"base\": 2, \"exponent\": 5, \"modulus\": 13, \"expected\": 6},\n",
    "        {\"base\": 3, \"exponent\": -1, \"modulus\": 7, \"expected\": 5}, # 3 * 5 % 7 = 1, т.е. 5 - обратный к 3 по модулю 7\n",
    "        {\"base\": 10, \"exponent\": -3, \"modulus\": 17, \"expected\": 11},\n",
    "        {\"base\": 10, \"exponent\": -3, \"modulus\": 12, \"expected\": None}, # 10 и 12 не взаимно простые, обратного не существует\n",
    "        {\"base\": 2, \"exponent\": 123456, \"modulus\": 101, \"expected\": 2**123456 % 101},\n",
    "    ]\n",
    "\n",
    "    results = []\n",
    "    for test in tests:\n",
    "        modulus = test[\"modulus\"]\n",
    "        me = ModularExponentiation(modulus)\n",
    "        try:\n",
    "            result = me.pow_mod(test[\"base\"], test[\"exponent\"])\n",
    "            assert result == test[\"expected\"], f\"Failed on {test}: got {result}, expected {test['expected']}\"\n",
    "            results.append(\"Passed\")\n",
    "        except ValueError as e:\n",
    "            if test[\"expected\"] is None:\n",
    "                results.append(\"Passed\")\n",
    "            else:\n",
    "                results.append(f\"Failed on {test}: {str(e)}\")\n",
    "        except AssertionError as e:\n",
    "            results.append(str(e))\n",
    "    \n",
    "    return results\n",
    "\n",
    "test_results = test_pow_mod()\n",
    "test_results"
   ]
  }
 ],
 "metadata": {
  "kernelspec": {
   "display_name": "Python 3",
   "language": "python",
   "name": "python3"
  },
  "language_info": {
   "codemirror_mode": {
    "name": "ipython",
    "version": 3
   },
   "file_extension": ".py",
   "mimetype": "text/x-python",
   "name": "python",
   "nbconvert_exporter": "python",
   "pygments_lexer": "ipython3",
   "version": "3.11.3"
  }
 },
 "nbformat": 4,
 "nbformat_minor": 2
}
