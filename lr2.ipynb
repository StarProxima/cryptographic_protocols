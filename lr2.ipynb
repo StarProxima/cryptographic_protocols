{
 "cells": [
  {
   "cell_type": "code",
   "execution_count": 3,
   "metadata": {},
   "outputs": [
    {
     "name": "stdout",
     "output_type": "stream",
     "text": [
      "5\n",
      "7\n"
     ]
    }
   ],
   "source": [
    "def gcd_extended(a, b):\n",
    "    \"\"\"Расширенный алгоритм Евклида.\"\"\"\n",
    "    if a == 0:\n",
    "        return b, 0, 1\n",
    "    else:\n",
    "        gcd, x1, y1 = gcd_extended(b % a, a)\n",
    "        x = y1 - (b // a) * x1\n",
    "        y = x1\n",
    "        return gcd, x, y\n",
    "\n",
    "def euler_phi(m):\n",
    "    \"\"\"Вычисляет значение функции Эйлера.\"\"\"\n",
    "    result = 1\n",
    "    for i in range(2, m):\n",
    "        if gcd_extended(i, m)[0] == 1:\n",
    "            result += 1\n",
    "    return result\n",
    "\n",
    "class ModularExponentiation:\n",
    "    def __init__(self, modulus):\n",
    "        self.modulus = modulus\n",
    "\n",
    "    def add_mod(self, a, b):\n",
    "        \"\"\"Сложение по модулю.\"\"\"\n",
    "        return (a + b) % self.modulus\n",
    "\n",
    "    def mul_mod(self, a, b):\n",
    "        \"\"\"Умножение по модулю.\"\"\"\n",
    "        return (a * b) % self.modulus\n",
    "\n",
    "    def inv_mod(self, a):\n",
    "        \"\"\"Нахождение обратного элемента по модулю.\"\"\"\n",
    "        gcd, x, _ = gcd_extended(a, self.modulus)\n",
    "        if gcd != 1:\n",
    "            raise ValueError(\"Обратный элемент не существует.\")\n",
    "        return x % self.modulus\n",
    "\n",
    "    def pow_mod(self, base, exponent):\n",
    "        \"\"\"Вычисление степени по модулю.\"\"\"\n",
    "        if exponent == 0:\n",
    "            return 1\n",
    "        elif exponent > 0:\n",
    "            # Малая теорема Ферма для положительных степеней\n",
    "            result = 1\n",
    "            for _ in range(exponent):\n",
    "                result = self.mul_mod(result, base)\n",
    "            return result\n",
    "        else:\n",
    "            # Теорема Эйлера для отрицательных степеней\n",
    "            phi = euler_phi(self.modulus)\n",
    "            inv_base = self.inv_mod(base)\n",
    "            positive_exponent = (-exponent) % phi\n",
    "            result = 1\n",
    "            for _ in range(positive_exponent):\n",
    "                result = self.mul_mod(result, inv_base)\n",
    "            return result\n",
    "\n",
    "# Пример использования\n",
    "mod_exp = ModularExponentiation(17)\n",
    "print(mod_exp.pow_mod(3, 5))  # 3^5 mod 17\n",
    "print(mod_exp.pow_mod(3, -5))  # 3^(-5) mod 17, используя обратный элемент и теорему Эйлера"
   ]
  },
  {
   "cell_type": "markdown",
   "metadata": {},
   "source": [
    "Чтобы показать, что группа $(G = \\langle Z_{19}^*, \\times \\rangle)$ является циклической, мы должны продемонстрировать, что существует элемент в этой группе, порядок которого равен порядку всей группы, то есть 18, поскольку порядок мультипликативной группы $(Z_p^*)$ для простого числа $(p)$ равен $(p-1)$.\n",
    "\n",
    "Группа $(Z_{19}^*)$ состоит из чисел от 1 до 18, и мы уже нашли первообразные корни этой группы, которые являются элементами, порядок которых равен 18. Наличие первообразного корня гарантирует, что любой элемент группы может быть выражен как степень этого корня, что делает группу циклической.\n",
    "\n",
    "В качестве доказательства мы можем взять один из первообразных корней, найденных ранее, и показать, что возводя его в степени от 1 до 18, мы получим все элементы группы $(Z_{19}^*)$ без повторений. Это демонстрирует, что группа действительно циклическая, поскольку существует генерирующий элемент (первообразный корень), который производит всю группу.\n",
    "\n",
    "Для наглядности, предположим, что $(g)$ — один из найденных первообразных корней. Тогда мы можем вывести все степени $(g)$ по модулю 19, чтобы убедиться, что они покрывают всю группу $(Z_{19}^*)$.\n",
    "\n",
    "Этот код демонстрирует, что взяв первообразный корень и возводя его в степени от 1 до $(p-1)$, мы получаем все элементы группы $(Z_{19}^*)$, что подтверждает цикличность группы. Таким образом, группа $(G = \\langle Z_{19}^*, \\times \\rangle)$ является циклической."
   ]
  },
  {
   "cell_type": "code",
   "execution_count": null,
   "metadata": {},
   "outputs": [],
   "source": []
  }
 ],
 "metadata": {
  "kernelspec": {
   "display_name": "Python 3",
   "language": "python",
   "name": "python3"
  },
  "language_info": {
   "codemirror_mode": {
    "name": "ipython",
    "version": 3
   },
   "file_extension": ".py",
   "mimetype": "text/x-python",
   "name": "python",
   "nbconvert_exporter": "python",
   "pygments_lexer": "ipython3",
   "version": "3.11.3"
  }
 },
 "nbformat": 4,
 "nbformat_minor": 2
}
